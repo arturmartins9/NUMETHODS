{
 "cells": [
  {
   "cell_type": "markdown",
   "metadata": {
    "collapsed": true
   },
   "source": [
    "# 1.3 Erros absolutos e relativos\n",
    "\n",
    "\n",
    "### Erro absoluto\n",
    "Definimos erro absoluto por\n",
    "\n",
    "$$ E_{abs} = \\left| a_{ex}-a_{aprox} \\right| $$\n",
    "\n",
    "em que $a_{ex}$ é o valor exato da grandeza considerada e $a_{aprox}$ é o valor aproximado da mesma grandeza numérica.\n",
    "\n",
    "### Erro relativo \n",
    "Definimos erro relativo por\n",
    "\n",
    "$$ E_{rel} = \\frac{E_{abs} }{\\left| a_{ex} \\right|} $$\n",
    "\n",
    "em que $a_{ex}$ é o valor exato da grandeza considerada e $a_{aprox}$ é o valor aproximado da mesma grandeza.\n",
    "\n",
    "Podemos observar que o erro relativo nos fornece mais informações sobre a qua- lidade do erro que estamos cometendo num determinado cálculo, uma vez que no erro absoluto não é levada em consideração a ordem de grandeza do valor calculado, enquanto no erro relativo esta ordem é contemplada.\n",
    "\n",
    "Quando obtemos uma aproximação numérica por meio de uma sequência convergete $x_0, x_1, x_2,...,x_k,...$mas não conhecemos a solução exata, o erro relativo no termo $k$ pode ser expresso como _diferença relativa_, dada por  \n",
    "\n",
    "$$ \\frac{\\left|x_{k-1}-x_k \\right|}{\\left| x_k \\right|} $$\n",
    "\n"
   ]
  },
  {
   "cell_type": "markdown",
   "metadata": {
    "collapsed": true
   },
   "source": [
    "### Exemplo 1\n",
    "\n",
    "A sequência $x_k = 1+ \\frac{1}{x_{k-1}}$ converge para $\\overline{x} = \\frac{1+\\sqrt{5}}{2}$. Fazendo $i = 0,1,2,...,20$ e $x_0 = 1$, mostre a sequência de aproximações juntamente com as diferenças relativas e os erros relativos para cada termo.\n"
   ]
  },
  {
   "cell_type": "code",
   "execution_count": 11,
   "metadata": {},
   "outputs": [
    {
     "name": "stdout",
     "output_type": "stream",
     "text": [
      "2.0 1.618033988749895 0.23606797749978967 0.5\n",
      "1.5 1.618033988749895 0.07294901687515776 0.3333333333333333\n",
      "1.6666666666666665 1.618033988749895 0.030056647916491288 0.09999999999999992\n",
      "1.6 1.618033988749895 0.01114561800016822 0.04166666666666652\n",
      "1.625 1.618033988749895 0.004305231718579094 0.01538461538461533\n",
      "1.6153846153846154 1.618033988749895 0.0016374027886314115 0.005952380952380931\n",
      "1.619047619047619 1.618033988749895 0.0006264579760202099 0.002262443438914019\n",
      "1.6176470588235294 1.618033988749895 0.0002391358457583512 0.0008658008658008628\n",
      "1.6181818181818182 1.618033988749895 9.136361346616536e-05 0.00033046926635820254\n",
      "1.6179775280898876 1.618033988749895 3.48946069117676e-05 0.00012626262626264404\n",
      "1.6180555555555556 1.618033988749895 1.3329018927062451e-05 4.822298307377594e-05\n",
      "1.6180257510729614 1.618033988749895 5.091164333229031e-06 1.8420277040948962e-05\n",
      "1.6180371352785146 1.618033988749895 1.9446616335226094e-06 7.03581228447743e-06\n",
      "1.6180327868852458 1.618033988749895 7.427932030431986e-07 2.6874568327904768e-06\n",
      "1.618034447821682 1.618033988749895 2.8372196766005973e-07 1.0265148794584368e-06\n",
      "1.618033813400125 1.618033988749895 1.0837211766536868e-07 3.9209412781749934e-07\n",
      "1.6180340557275543 1.618033988749895 4.139447000764295e-08 1.4976658147350336e-07\n",
      "1.6180339631667064 1.618033988749895 1.581128000676001e-08 5.72057509188991e-08\n",
      "1.6180339985218035 1.618033988749895 6.0393716594104365e-09 2.1850651534206242e-08\n",
      "1.618033985017358 1.618033988749895 2.306834697009074e-09 8.346206375672829e-09\n"
     ]
    }
   ],
   "source": [
    "import math\n",
    "x = 1.\n",
    "x_ant = x\n",
    "x_exa = (1+math.sqrt(5))/2\n",
    "\n",
    "for k in range(20):\n",
    "    x = 1.+1./x\n",
    "    dif = abs(x-x_ant)/abs(x)\n",
    "    err = abs(x-x_exa)/abs(x_exa)\n",
    "    print (x, x_exa, err, dif)\n",
    "    x_ant = x"
   ]
  },
  {
   "cell_type": "code",
   "execution_count": null,
   "metadata": {},
   "outputs": [],
   "source": []
  }
 ],
 "metadata": {
  "kernelspec": {
   "display_name": "Python 3",
   "language": "python",
   "name": "python3"
  },
  "language_info": {
   "codemirror_mode": {
    "name": "ipython",
    "version": 3
   },
   "file_extension": ".py",
   "mimetype": "text/x-python",
   "name": "python",
   "nbconvert_exporter": "python",
   "pygments_lexer": "ipython3",
   "version": "3.6.4"
  }
 },
 "nbformat": 4,
 "nbformat_minor": 1
}
